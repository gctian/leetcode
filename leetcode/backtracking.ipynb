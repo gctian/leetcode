{
 "cells": [
  {
   "cell_type": "markdown",
   "metadata": {},
   "source": [
    "## 回溯法专题 "
   ]
  },
  {
   "cell_type": "markdown",
   "metadata": {},
   "source": [
    "### 八皇后问题 "
   ]
  },
  {
   "cell_type": "code",
   "execution_count": 84,
   "metadata": {},
   "outputs": [
    {
     "name": "stdout",
     "output_type": "stream",
     "text": [
      "['04752613', '05726314', '06357142', '06471352', '13572064', '14602753', '14630752', '15063724', '15720364', '16257403', '16470352', '17502463', '20647135', '24170635', '24175360', '24603175', '24730615', '25147063', '25160374', '25164073', '25307461', '25317460', '25703641', '25704613', '25713064', '26174035', '26175304', '27360514', '30471625', '30475261', '31475026', '31625704', '31625740', '31640752', '31746025', '31750246', '35041726', '35716024', '35720641', '36074152', '36271405', '36415027', '36420571', '37025164', '37046152', '37420615', '40357162', '40731625', '40752613', '41357206', '41362750', '41506372', '41703625', '42057136', '42061753', '42736051', '46027531', '46031752', '46137025', '46152037', '46152073', '46302751', '47302516', '47306152', '50417263', '51602473', '51603742', '52064713', '52073164', '52074136', '52460317', '52470316', '52613704', '52617403', '52630714', '53047162', '53174602', '53602417', '53607142', '57130642', '60275314', '61307425', '61520374', '62057413', '62714053', '63147025', '63175024', '64205713', '71306425', '71420635', '72051463', '73025164']\n",
      "92\n"
     ]
    }
   ],
   "source": [
    "# 八皇后\n",
    "nums = 8\n",
    "final_result = []\n",
    "def conflict(queen_str, cur_idx):\n",
    "    flag = False\n",
    "    for i in range(len(queen_str)):\n",
    "        # 第 i 行的皇后所在的位置：第几列\n",
    "        i_queen_loc = int(queen_str[i])\n",
    "        # cur_idx 当前皇后要试探的位置\n",
    "        # 同一列 / 对角线\n",
    "        if (i_queen_loc == cur_idx) or (abs(i_queen_loc - cur_idx) == abs(i - len(queen_str))):\n",
    "            flag = True\n",
    "            break\n",
    "    return flag\n",
    "    \n",
    "def back(queen_str):\n",
    "    if len(queen_str) == 8:\n",
    "        # 找到一组解\n",
    "        final_result.append(queen_str)\n",
    "        return\n",
    "    for cur_idx in range(nums):\n",
    "        # 判断当前这个皇后位置和已有路线是否冲突\n",
    "        if not conflict(queen_str, cur_idx):\n",
    "            # 找到当前皇后的合法位置，继续找下一个皇后\n",
    "            back(queen_str + str(cur_idx))\n",
    "            \n",
    "    \n",
    "            \n",
    "final_result = list()\n",
    "queen_str = \"\"\n",
    "back(queen_str)\n",
    "\n",
    "print(final_result)\n",
    "# 92 种解\n",
    "print(len(final_result))\n",
    "\n",
    "# 为什么 back 函数感觉是找到一组解，却可以实现找到 N 组合理解 ？\n",
    "# 重点是每一行的可选都有 8 个，当确定一个后，下一行又有 8 个可选，但前面确定的路线可能有很多个\n",
    "# 比如开始递归 queen_str 在第一行有 8 个位置，每一个位置都可以递归到下一层，所以会找到很多组解\n",
    "    \n",
    "        \n",
    "    "
   ]
  },
  {
   "cell_type": "markdown",
   "metadata": {},
   "source": [
    "### 迷宫问题"
   ]
  },
  {
   "cell_type": "code",
   "execution_count": 519,
   "metadata": {},
   "outputs": [
    {
     "name": "stdout",
     "output_type": "stream",
     "text": [
      "[[0, 0], [1, 0], [2, 0], [2, 1], [2, 2], [1, 2], [0, 2], [0, 3], [0, 4], [1, 4], [2, 4], [3, 4], [4, 4]]\n",
      "[[0, 0], [1, 0], [2, 0], [2, 1], [2, 2], [2, 3], [2, 4], [3, 4], [4, 4]]\n"
     ]
    }
   ],
   "source": [
    "# 迷宫问题，0可走1是墙壁\n",
    "\n",
    "maze = [[0, 1, 0, 0, 0], \n",
    "        [0, 1, 0, 1, 0],\n",
    "        [0, 0, 0, 0, 0],\n",
    "        [0, 1, 1, 1, 0],\n",
    "        [0, 0, 0, 1, 0]]\n",
    "n, m = len(maze), len(maze[0]) # n = row, m = col\n",
    "walk_list = [(-1, 0), (1, 0), (0, 1), (0, -1)]\n",
    "\n",
    "def is_valid(x, y):\n",
    "    if x in range(n) and y in range(m) and maze[x][y] == 0:\n",
    "        return True\n",
    "    else:\n",
    "        return False\n",
    "\n",
    "# 找到迷宫所有通路\n",
    "def maze_back(path):\n",
    "    # path 是已走过的路径, [[0,0], (x,y)]\n",
    "    if (path[-1][0] + 1 == n) and (path[-1][1] + 1 == m):\n",
    "        route.append(path)\n",
    "        return\n",
    "    cur_x, cur_y = path[-1]\n",
    "\n",
    "    for walk in walk_list:\n",
    "        next_x, next_y = cur_x + walk[0], cur_y + walk[1]\n",
    "        if is_valid(next_x, next_y):\n",
    "            # mark， 关键一步，如果不标记会陷入死循环，因为下一个点可以上下左右走，有个方向是回来的，如果原路走回来就会死循环来回走\n",
    "            # 标记的目的是不让下一个点原路返回\n",
    "            maze[cur_x][cur_y] = 2\n",
    "            maze_back(path + [[next_x, next_y]])\n",
    "            # back try \n",
    "            maze[cur_x][cur_y] = 0\n",
    "\n",
    "# 找到一条路就结束，关键在 for 块中的递归语句，如果有 return 就不会继续执行 for 剩下部分，相当于向一个子空间进行递归\n",
    "def maze_back2(path):\n",
    "    # path 是已走过的路径, [[0,0], (x,y)]\n",
    "    if (path[-1][0] + 1 == n) and (path[-1][1] + 1 == m):\n",
    "        route.append(path)\n",
    "        return True\n",
    "    cur_x, cur_y = path[-1]\n",
    "\n",
    "    for walk in walk_list:\n",
    "        next_x, next_y = cur_x + walk[0], cur_y + walk[1]\n",
    "        if is_valid(next_x, next_y):\n",
    "            # mark\n",
    "            maze[cur_x][cur_y] = 2\n",
    "#             path.append([next_x, next_y])\n",
    "            if maze_back(path + [[next_x, next_y]]):\n",
    "                return True\n",
    "            # back try \n",
    "#             path.pop()\n",
    "            maze[cur_x][cur_y] = 0\n",
    "    return False\n",
    "\n",
    "\n",
    "\n",
    "# 初始路线添加左上角点\n",
    "path = [[0, 0]]\n",
    "start = [0, 0]\n",
    "route = []\n",
    "maze_back(path)\n",
    "for one in route:\n",
    "    print(one)\n",
    "\n",
    "    "
   ]
  },
  {
   "cell_type": "markdown",
   "metadata": {},
   "source": [
    "### LeetCode 306. Additive Number"
   ]
  },
  {
   "cell_type": "code",
   "execution_count": 304,
   "metadata": {},
   "outputs": [
    {
     "name": "stdout",
     "output_type": "stream",
     "text": [
      "False []\n"
     ]
    }
   ],
   "source": [
    "# LeetCode 306. Additive Number\n",
    "def str2num(num_str):\n",
    "    str_sum = 0\n",
    "    for i in range(len(num_str)-1, -1, -1):\n",
    "        str_sum += int(num_str[i]) * pow(10, len(num_str)-1-i)\n",
    "    return str_sum\n",
    "        \n",
    "def back(path, idx):\n",
    "    if idx > n -1 and len(path) >=3:\n",
    "        # \"1023\"的情况，可以组成 [1,2,3]但是数字总个数不对\n",
    "        total = 0\n",
    "        for t in path:\n",
    "            total +=len(str(t))\n",
    "        if total != n:\n",
    "            return False\n",
    "        print(path)\n",
    "        return True\n",
    "    for j in range(idx, n):\n",
    "        num = str2num(nums[idx: j+1])\n",
    "        if len(path) < 2:\n",
    "            if back(path + [num], j+1):\n",
    "                return True\n",
    "        else:\n",
    "            if path[-1] + path[-2] == num:\n",
    "                if back(path + [num], j+1):\n",
    "                    return True\n",
    "    return False\n",
    "path = []\n",
    "nums = \"1023\"\n",
    "n = len(nums)\n",
    "idx = 0\n",
    "print(back(path, 0), path)            "
   ]
  },
  {
   "cell_type": "markdown",
   "metadata": {},
   "source": [
    "### 17. Letter Combinations of a Phone Number"
   ]
  },
  {
   "cell_type": "code",
   "execution_count": 318,
   "metadata": {},
   "outputs": [
    {
     "name": "stdout",
     "output_type": "stream",
     "text": [
      "['add', 'ade', 'adf', 'aed', 'aee', 'aef', 'afd', 'afe', 'aff', 'bdd', 'bde', 'bdf', 'bed', 'bee', 'bef', 'bfd', 'bfe', 'bff', 'cdd', 'cde', 'cdf', 'ced', 'cee', 'cef', 'cfd', 'cfe', 'cff']\n"
     ]
    }
   ],
   "source": [
    "digits = \"323\"\n",
    "digit_letter = {2: 'abc0', 3: 'def0', 4: 'ghi0', 5: 'jkl0',\n",
    "                6: 'mno0', 7: 'pqrs', 8: 'tuv0', 9:'wxyz'}\n",
    "final_result = []\n",
    "def back(path, idx):\n",
    "    if len(path) == len(digits):\n",
    "        if path not in final_result:\n",
    "            final_result.append(path)\n",
    "        return\n",
    "    for option in digit_letter[int(digits[idx])]:\n",
    "        if option == '0':\n",
    "            continue\n",
    "        back(path + option, idx+1)\n",
    "path = \"\"\n",
    "back(path, 0)\n",
    "print(final_result)\n",
    "    \n",
    "    \n",
    "        "
   ]
  },
  {
   "cell_type": "markdown",
   "metadata": {},
   "source": [
    "### 22. Generate Parentheses"
   ]
  },
  {
   "cell_type": "code",
   "execution_count": 596,
   "metadata": {},
   "outputs": [
    {
     "name": "stdout",
     "output_type": "stream",
     "text": [
      "['((()))', '(()())', '(())()', '(()))(', '()(())', '()()()', '()())(', '())(()', '())()(', '()))((', ')((())', ')(()()', ')(())(', ')()(()', ')()()(', ')())((', '))((()', '))(()(', '))()((', ')))((('] 20\n"
     ]
    }
   ],
   "source": [
    "n = 3\n",
    "final_result = []\n",
    "\n",
    "def back(path=\"\", left=0, right=0):\n",
    "    if len(path) == n * 2:\n",
    "        final_result.append(path)\n",
    "        return\n",
    "    if left < n:\n",
    "        back(path + '(', left+1, right)\n",
    "    # right < n，就会出现右括号在前 ) 的情况，这是不合法的\n",
    "    # right < left 可以保证已经有左括号的情况下，才加入右括号\n",
    "    if right < left:\n",
    "        back(path + ')', left, right+1)\n",
    "back()\n",
    "print(final_result, len(final_result))\n",
    "        \n",
    "    "
   ]
  },
  {
   "cell_type": "markdown",
   "metadata": {},
   "source": [
    "### 39. Combination Sum"
   ]
  },
  {
   "cell_type": "code",
   "execution_count": 597,
   "metadata": {},
   "outputs": [
    {
     "name": "stdout",
     "output_type": "stream",
     "text": [
      "[[2, 2, 2, 2], [2, 3, 3], [3, 5]]\n"
     ]
    }
   ],
   "source": [
    "# candidates = [2,3,5], target = 8,\n",
    "# 关键是下次循环的位置，要从原位置开始，不能+1，因为当前位置可以无限重复\n",
    "candidates = [2,3,5]\n",
    "target = 8\n",
    "final_result = []\n",
    "def back(path, idx):\n",
    "    if sum(path) >= target:\n",
    "        if sum(path) == target:\n",
    "            final_result.append(path)\n",
    "        return\n",
    "    for j in range(idx, len(candidates)):\n",
    "        back(path + [candidates[j]], j)\n",
    "        \n",
    "back([], 0)\n",
    "print(final_result)"
   ]
  },
  {
   "cell_type": "markdown",
   "metadata": {},
   "source": [
    "### 40. Combination Sum II"
   ]
  },
  {
   "cell_type": "code",
   "execution_count": 623,
   "metadata": {},
   "outputs": [
    {
     "name": "stdout",
     "output_type": "stream",
     "text": [
      "[1, 1, 2, 5, 6, 7, 10]\n",
      "[[1, 1, 6], [1, 2, 5], [1, 7], [1, 2, 5], [1, 7], [2, 6]]\n"
     ]
    }
   ],
   "source": [
    "# 重点是 1、每个数字只能出现一次，2、不能有重复集合，如[1,2,5] [2,1,5], 3、原数组中有重复数字\n",
    "# 解决 1、下一次 back 时不能像上一题一样从原位置开始了，要从下一个位置 j+1 开始\n",
    "#     2、 先把元数组升序排序\n",
    "#     3、升序排序后，从当前 idx 开始往后看，如果下一个是同样数字则跳过\n",
    "# 比如下面这个有两个1，则第一个1进入递归下一层，第二个1跳过，如果不跳过则会出现重复\n",
    "candidates = [10,1,2,7,6,1,5]\n",
    "target = 8\n",
    "final_result = []\n",
    "def back(path, idx):\n",
    "    if sum(path) >= target:\n",
    "#         path.sort()\n",
    "        if sum(path) == target:\n",
    "            final_result.append(path)\n",
    "        return\n",
    "    for j in range(idx, len(candidates)):\n",
    "        if candidates[j] > target:\n",
    "            continue\n",
    "#         if (j > idx) and (candidates[j] == candidates[j-1]):\n",
    "#             continue\n",
    "        back(path + [candidates[j]], j + 1)\n",
    "        \n",
    "candidates.sort()\n",
    "print(candidates)\n",
    "back([], 0)\n",
    "\n",
    "final_result = [list(e) for e in final_result]\n",
    "print(final_result)\n",
    "\n",
    "# [[1, 1, 6], [1, 2, 5], [1, 7], [1, 2, 5], [1, 7], [2, 6]]\n"
   ]
  },
  {
   "cell_type": "markdown",
   "metadata": {},
   "source": [
    "### 47. Permutations II"
   ]
  },
  {
   "cell_type": "code",
   "execution_count": 646,
   "metadata": {},
   "outputs": [
    {
     "name": "stdout",
     "output_type": "stream",
     "text": [
      "[1, 1, 2, 2]\n",
      "4\n",
      "4\n",
      "4\n",
      "4\n",
      "4\n",
      "4\n",
      "[[1, 1, 2, 2], [1, 2, 1, 2], [1, 2, 2, 1], [2, 1, 1, 2], [2, 1, 2, 1], [2, 2, 1, 1]]\n"
     ]
    }
   ],
   "source": [
    "nums = [1,1,2,2]\n",
    "final_result = []\n",
    "nums.sort()\n",
    "print(nums)\n",
    "\n",
    "# path 是每个路径\n",
    "# used 是每次递归使用过的 nums 中的 index\n",
    "def back(path, used=[], t=0):\n",
    "    if len(path) == len(nums):\n",
    "        print(t)\n",
    "        final_result.append(path)\n",
    "        return\n",
    "    unuse = [] # 保存当前层没有使用过的数字，且是唯一不重复数字\n",
    "    # for 里面是同一层，所以共用一个 unuse\n",
    "    for i in range(len(nums)):\n",
    "        # i没有使用过\n",
    "        if i not in used and nums[i] not in unuse:\n",
    "            # 同一层相同数字只有第一个可以进入到递归\n",
    "            unuse.append(nums[i])\n",
    "            back(path + [nums[i]], used + [i], t)\n",
    "\n",
    "back([], used=[], t=0)\n",
    "print( final_result)"
   ]
  },
  {
   "cell_type": "markdown",
   "metadata": {},
   "source": [
    "### 60. Permutation Sequence"
   ]
  },
  {
   "cell_type": "code",
   "execution_count": 767,
   "metadata": {},
   "outputs": [
    {
     "name": "stdout",
     "output_type": "stream",
     "text": [
      "[1, 2, 3, 4]\n",
      "2 3 [1, 3, 4]\n",
      "3 1 [1, 4]\n",
      "2314\n"
     ]
    }
   ],
   "source": [
    "# n=4, [1,2,3,4], k=9\n",
    "# 每一个高位对应 (n-1)!种情况\n",
    "# k=9, 高位是 (9-1) // 6 = 1, nums[1] = 2, 剩下3=(9-1)%6 +1\n",
    "# k=3, nums=[1,3,4],高位是 (3-1) // 2=1, nums[1]=3, 剩下(3-1)%2+1=1个\n",
    "# k=1，把剩下的 nums 中数字全拼到 res 上\n",
    "\n",
    "\n",
    "import math\n",
    "def back(k, nums):\n",
    "    if k == 1:\n",
    "        res = \"\"\n",
    "        for i in nums:\n",
    "            res += str(i)\n",
    "        return res\n",
    "\n",
    "    jiecheng = math.factorial(len(nums) - 1)\n",
    "    idx = (k-1) // jiecheng\n",
    "    first = nums[idx]\n",
    "    k = (k-1)%jiecheng + 1\n",
    "    nums.remove(first)\n",
    "    print(first, k, nums)\n",
    "    return str(first) + back(k, nums)\n",
    "        \n",
    "    \n",
    "def fun_loop(nums, k,final_result):\n",
    "    while(k > 0):\n",
    "        if k == 1 :\n",
    "            for i in nums:\n",
    "                final_result += str(i)\n",
    "            break\n",
    "            \n",
    "        jiecheng = math.factorial(len(nums) - 1)\n",
    "        idx = (k-1) // jiecheng\n",
    "        first = nums[idx]\n",
    "        final_result += str(first)\n",
    "        nums.remove(first)\n",
    "\n",
    "        k = (k - 1) % jiecheng + 1\n",
    "        \n",
    "    return final_result\n",
    "    \n",
    "k=9\n",
    "n=4\n",
    "nums = list(range(1, n+1, 1))\n",
    "print(nums)\n",
    "# final_result = fun_loop(nums, k, \"\")\n",
    "final_result = back(k, nums)\n",
    "print(final_result)"
   ]
  },
  {
   "cell_type": "markdown",
   "metadata": {},
   "source": [
    "### 77. Combinations"
   ]
  },
  {
   "cell_type": "code",
   "execution_count": 775,
   "metadata": {},
   "outputs": [
    {
     "data": {
      "text/plain": [
       "[[1, 2], [1, 3], [1, 4], [2, 3], [2, 4], [3, 4]]"
      ]
     },
     "execution_count": 775,
     "metadata": {},
     "output_type": "execute_result"
    }
   ],
   "source": [
    "# 这题比较简单，总长是 k, 初始 arr 是递增的 1-n，从0开始每次选择一个 idx 位置，下一次选择要从 idx+1 开始任选一个，否则会有重复\n",
    "n = 4\n",
    "k= 2\n",
    "final_result = []\n",
    "arr = list(range(1, n+1, 1))\n",
    "\n",
    "def back(path, idx=0):\n",
    "    if len(path) == k:\n",
    "        final_result.append(path)\n",
    "        return\n",
    "    for j in range(idx, len(arr)):\n",
    "\n",
    "        back(path + [arr[j]], j+1)\n",
    "\n",
    "back(path=[], idx=0)\n",
    "final_result"
   ]
  },
  {
   "cell_type": "markdown",
   "metadata": {},
   "source": [
    "### 79. Word Search"
   ]
  },
  {
   "cell_type": "code",
   "execution_count": 817,
   "metadata": {},
   "outputs": [
    {
     "data": {
      "text/plain": [
       "False"
      ]
     },
     "execution_count": 817,
     "metadata": {},
     "output_type": "execute_result"
    }
   ],
   "source": [
    "board = [[\"A\",\"B\",\"C\",\"E\"],\n",
    "         [\"S\",\"F\",\"C\",\"S\"],\n",
    "         [\"A\",\"D\",\"E\",\"E\"]]\n",
    "word = \"ABCB\"\n",
    "\n",
    "## 和迷宫问题思路有点像，区别是不是从左上角开始了，开始的点需要先找出来，然后深入查找\n",
    "\n",
    "walk_route = [[-1, 0], [0, -1], [1, 0], [0, 1]]\n",
    "n = len(board)\n",
    "m = len(board[0])\n",
    "\n",
    "def is_valid(x, y):\n",
    "    # '#' 说明是找过的字符\n",
    "    if x in range(n) and y in range(m) and board[x][y] != '#':\n",
    "        return True\n",
    "    else:\n",
    "        return False\n",
    "    \n",
    "def back(word, path, x, y):\n",
    "    if word == \"\":\n",
    "        print(path)\n",
    "        return True\n",
    "    \n",
    "    # 找 x,y 连接点\n",
    "    for walk in walk_route:\n",
    "        next_x, next_y = x + walk[0], y + walk[1]\n",
    "        if not is_valid(next_x, next_y):\n",
    "            continue\n",
    "        # 下一个点字符和当前字符相同，并且没有出现过\n",
    "        if (board[next_x][next_y] == board[x][y]) and (next_x,next_y) in path:\n",
    "            continue\n",
    "        # 下一个点字符是要找的字符\n",
    "        if board[next_x][next_y] == word[0]:\n",
    "            tmp = board[x][y]\n",
    "            board[x][y] = '#'\n",
    "            if back(word[1:], path + [(next_x, next_y)], next_x, next_y):\n",
    "                return True\n",
    "            board[x][y] = tmp\n",
    "                \n",
    "    return False\n",
    "         \n",
    "def search_word():\n",
    "    for i in range(n):\n",
    "        for j in range(m):\n",
    "            if board[i][j] == word[0]:\n",
    "                if back(word[1:], [(i,j)], i, j):\n",
    "                    return True\n",
    "    return False\n",
    "search_word()        \n",
    "    "
   ]
  },
  {
   "cell_type": "markdown",
   "metadata": {},
   "source": [
    "### 89. Gray Code"
   ]
  },
  {
   "cell_type": "code",
   "execution_count": 801,
   "metadata": {},
   "outputs": [
    {
     "data": {
      "text/plain": [
       "''"
      ]
     },
     "execution_count": 801,
     "metadata": {},
     "output_type": "execute_result"
    }
   ],
   "source": [
    "# 这个用递归很好做，参考 https://zh.wikipedia.org/wiki/%E6%A0%BC%E9%9B%B7%E7%A0%81\n",
    "# 采用镜射排列思路，fun(n-1)最高位分别添加一个0，然后在倒过来从最后一个开始，最高位分别加一个1\n",
    "def grayCode(n):\n",
    "    if n == 0:\n",
    "        return [0]\n",
    "    ret = grayCode(n-1)\n",
    "    final = []\n",
    "    for i in range(len(ret)-1, -1, -1):\n",
    "        # inverse\n",
    "        t = ret[i]\n",
    "        # 左边加1，11 -> 111\n",
    "        final.append(t + pow(2, n-1))\n",
    "\n",
    "    return ret + final"
   ]
  },
  {
   "cell_type": "markdown",
   "metadata": {},
   "source": [
    "### 78. Subsets"
   ]
  },
  {
   "cell_type": "code",
   "execution_count": 882,
   "metadata": {},
   "outputs": [
    {
     "name": "stdout",
     "output_type": "stream",
     "text": [
      "[[], [1], [1, 2], [1, 2, 3], [1, 3], [2], [2, 3], [3]]\n"
     ]
    }
   ],
   "source": [
    "# nums = [1,2,3]， nums 是没有重复的\n",
    "nums = [1,2,3]\n",
    "\n",
    "# 递归解法\n",
    "def recursion(nums):\n",
    "    if len(nums) == 0:\n",
    "        return [[]]\n",
    "    result = recursion(nums[1:])\n",
    "    # 上一层nums[1:]结果 + 这一层结果(nums[0] 依次加到上一层结果中)\n",
    "    return result + [[nums[0]] + t for t in result]\n",
    "recursion(nums)\n",
    "\n",
    "# 回溯解法\n",
    "# level 0: []\n",
    "# level 1: [1], [2], [3]\n",
    "# level 2: [1,2], [1,3], [2,3]\n",
    "# level 3: [1,2,3]\n",
    "def back(path, start):\n",
    "    final_result.append(path)\n",
    "    for i in range(start, len(nums)):\n",
    "        back(path + [nums[i]], i+1)\n",
    "        \n",
    "final_result = []\n",
    "back([], 0)\n",
    "print(final_result)"
   ]
  },
  {
   "cell_type": "markdown",
   "metadata": {},
   "source": [
    "### 90. Subsets II"
   ]
  },
  {
   "cell_type": "code",
   "execution_count": 878,
   "metadata": {},
   "outputs": [
    {
     "name": "stdout",
     "output_type": "stream",
     "text": [
      "[[], [1], [1, 2], [2]]\n"
     ]
    }
   ],
   "source": [
    "nums = [1,2,2]\n",
    "n = len(nums)\n",
    "# L0: []\n",
    "# L1: [1], [2]\n",
    "# L2: [1,2], [2,2]\n",
    "# L3: [1,2,2]\n",
    "def back(subset, start):\n",
    "    final_result.append(list(subset))\n",
    "    for i in range(start,len(nums)):\n",
    "        # 同一层如果有重复，只能用第一个出现的数字， i > start 是因为 [1,2,2]\n",
    "        if i > start and nums[i] == nums[i-1]:\n",
    "            continue\n",
    "        back(subset + [nums[i]],i+1)\n",
    "\n",
    "# 递归写法：[] -> [], [2] -> [], [2], [2](有重复需要过滤一下), [2, 2]\n",
    "def recursion(nums):\n",
    "    if len(nums) == 0:\n",
    "        return [[]]\n",
    "    result = recursion(nums[1:])\n",
    "\n",
    "    return result + [[nums[0]] + s for s in result if ([nums[0]] + s) not in result]\n",
    "            \n",
    "\n",
    "final_result = []\n",
    "# 因为有重复，所以必须先排序\n",
    "nums.sort()\n",
    "back([], 0)\n",
    "print(final_result)\n",
    "\n",
    "# print(recursion(nums))\n",
    "\n"
   ]
  },
  {
   "cell_type": "markdown",
   "metadata": {},
   "source": [
    "### 93. Restore IP Addresses"
   ]
  },
  {
   "cell_type": "code",
   "execution_count": 925,
   "metadata": {},
   "outputs": [
    {
     "name": "stdout",
     "output_type": "stream",
     "text": [
      "['0.10.0.10', '0.100.1.0']\n"
     ]
    }
   ],
   "source": [
    "s = \"010010\"\n",
    "def back(path, start):\n",
    "    if len(path) == 4 :\n",
    "        if start >= len(s):\n",
    "            final_result.append('.'.join(path))\n",
    "        return\n",
    "    # 从当前位置开始找 1-3 位数字\n",
    "    for j in range(start, min(start+3, len(s))):\n",
    "        tmp = s[start: j+1]\n",
    "        # 避免出现 '01' 这种情况，但一个 0 是合理的\n",
    "        if len(tmp) > 1 and tmp[0] == '0':\n",
    "            continue\n",
    "        if 0 <= int(tmp) < 256:\n",
    "#             print(path, tmp, i, j+1)\n",
    "            back(path + [tmp], j+1)\n",
    "                \n",
    "final_result = []\n",
    "back([], 0)\n",
    "print(final_result)"
   ]
  },
  {
   "cell_type": "markdown",
   "metadata": {},
   "source": [
    "### 131. Palindrome Partitioning"
   ]
  },
  {
   "cell_type": "code",
   "execution_count": 938,
   "metadata": {},
   "outputs": [
    {
     "name": "stdout",
     "output_type": "stream",
     "text": [
      "[['a', 'c', 'b', 'b', 'c', 'a'], ['a', 'c', 'bb', 'c', 'a'], ['a', 'cbbc', 'a'], ['acbbca']]\n"
     ]
    }
   ],
   "source": [
    "s = \"acbbca\"\n",
    "def is_Palindrome(sub):\n",
    "    if len(sub) == 1:\n",
    "        return True\n",
    "    return sub == sub[::-1]\n",
    "def back(path, start):\n",
    "    if start >= len(s):\n",
    "        final_result.append(path)\n",
    "    for i in range(start, len(s)):\n",
    "        # 从当前 start 位置开始往后探索\n",
    "        tmp = s[start: i+1]\n",
    "        # tmp 是回文串\n",
    "        if is_Palindrome(tmp):\n",
    "            # 找到一个回文子串，继续向后递归找，从下一个位置开始\n",
    "            back(path + [tmp], i+1)\n",
    "            \n",
    "final_result = []\n",
    "back([], 0)\n",
    "print(final_result)\n",
    "        "
   ]
  },
  {
   "cell_type": "markdown",
   "metadata": {},
   "source": [
    "### 306. Additive Number"
   ]
  },
  {
   "cell_type": "code",
   "execution_count": 1009,
   "metadata": {},
   "outputs": [
    {
     "name": "stdout",
     "output_type": "stream",
     "text": [
      "False\n"
     ]
    }
   ],
   "source": [
    "num = \"199100199\"\n",
    "def string2num(s):\n",
    "    ret = 0\n",
    "    for i in range(len(s)):\n",
    "        ret += pow(10, len(s)-1-i) * int(s[i])\n",
    "    return ret\n",
    "\n",
    "def back(path, start):\n",
    "    if len(path)>=3 and start >=len(num):\n",
    "#         print(path, start >=len(num))\n",
    "        return True\n",
    "\n",
    "    for i in range(start, len(num)):\n",
    "        # 不能以0开头，如 '03', 但是可以是一个0\n",
    "        cur = num[start: i+1]\n",
    "        if len(cur) > 1 and num[start]=='0':\n",
    "            return False\n",
    "        if len(path) < 2:\n",
    "            # append\n",
    "            if back(path + [cur], i+1):\n",
    "                return True\n",
    "        else:\n",
    "            pre1 = string2num(path[-1])\n",
    "            pre2 = string2num(path[-2])\n",
    "            \n",
    "            if string2num(cur) > pre1+pre2:\n",
    "                break\n",
    "            \n",
    "            if string2num(cur) == pre1+pre2:\n",
    "                if back(path + [cur], i+1):\n",
    "                    return True\n",
    "            \n",
    "\n",
    "    return False\n",
    "\n",
    "print( back([], 0))"
   ]
  },
  {
   "cell_type": "markdown",
   "metadata": {},
   "source": [
    "### 216. Combination Sum III"
   ]
  },
  {
   "cell_type": "code",
   "execution_count": 954,
   "metadata": {},
   "outputs": [
    {
     "name": "stdout",
     "output_type": "stream",
     "text": [
      "[]\n"
     ]
    }
   ],
   "source": [
    "# 1，n 1-9, 第一个数字可能是 1-9中的任一个，所以循环是从 range(start - 10) 选一个\n",
    "# 2，for 中的数字不一定都要循环，用一个变量 diff 记录当前的差值，如果当前的数字大于这个差值，则没必要往后循环了，因为后面数字越来越大\n",
    "#   这时候可以 break 退出 for，因为这一层已经没有合理值了。break 可以极大的提高运行速度\n",
    "# len(path)==k 就结束，但此时的和不一定等于 n\n",
    "\n",
    "k = 2\n",
    "n = 18\n",
    "\n",
    "def back(path, start, diff):\n",
    "    if len(path)==k :\n",
    "#         print(path)\n",
    "        if sum(path) == n:\n",
    "            final_result.append(path)\n",
    "        return\n",
    "    for i in range(start, 10):\n",
    "        if i > diff:\n",
    "            break # continue -> break: 运行速度超过 70% -> 94%\n",
    "        back(path + [i], i+1, diff - i)\n",
    "final_result = []   \n",
    "back([], 1, diff=n)\n",
    "print(final_result)"
   ]
  },
  {
   "cell_type": "code",
   "execution_count": 81,
   "metadata": {},
   "outputs": [
    {
     "data": {
      "text/plain": [
       "0.013000000000000012"
      ]
     },
     "execution_count": 81,
     "metadata": {},
     "output_type": "execute_result"
    }
   ],
   "source": [
    "0.710 - 0.697"
   ]
  },
  {
   "cell_type": "markdown",
   "metadata": {},
   "source": [
    "### 357. Count Numbers with Unique Digits"
   ]
  },
  {
   "cell_type": "code",
   "execution_count": 68,
   "metadata": {},
   "outputs": [
    {
     "name": "stdout",
     "output_type": "stream",
     "text": [
      "712891\n",
      "712891\n"
     ]
    }
   ],
   "source": [
    "# 其实就是求所有0-9组成的所有不含重复数字的组合，组合位数是 1-n\n",
    "\n",
    "# 1 回溯写法， back 函数求 n 位数字组合不重复项有多少个,\n",
    "#    used : list 长度为10，used[i]表示i这个数字是否被使用过\n",
    "#    bits : 当前是第几位\n",
    "def back(used, bits, n):\n",
    "    # bits 从0开始，bits=n，n位数字都确定好了且是不含重复的，所以自己算一个，return 1\n",
    "    if bits == n:\n",
    "        return 1\n",
    "    total = 0 # 当前第 bits 的位置上有多少个\n",
    "    for i in range (10): # 每个位置可选数字，如果是坐起第一个位置，范围是1-9\n",
    "        if bits == 0 and i == 0:\n",
    "            continue\n",
    "        if not used[i]: # 当前位置上的候选 i 没有被使用过，则递归深入\n",
    "            used[i] = True\n",
    "            # total 是总共的个数，for 的每个候选处在同一层，纵向深入返回的个数是 back,\n",
    "            # 那么这一层的总个数就是每个纵向递归深入个数之和，所以是 total+=\n",
    "            total += back(used, bits + 1, n)\n",
    "            used[i] = False\n",
    "    return total\n",
    "\n",
    "def tracking(n):\n",
    "    total = 1 # 0 也算一个\n",
    "    for x in range(1, n+1):\n",
    "        used = [False] * 10\n",
    "        total += back(used, 0, x)\n",
    "    return total\n",
    "        \n",
    "    \n",
    "# 2 数学概率写法            \n",
    "# n = 0: 1\n",
    "# n = 1: 10\n",
    "# n = 2: 10 + 9*9\n",
    "# n = 3: 10 + 9*9 + 9*9*8\n",
    "# n = 4: 10 + 9*9 + 9*9*8 + 9*9*8*7\n",
    "def count_unique(n):\n",
    "\n",
    "    if n == 1:\n",
    "        return 10\n",
    "#     if n == 2:\n",
    "#         return 9 * 9 + 10\n",
    "    # n >=2\n",
    "    total = 10\n",
    "    cur = 9 \n",
    "    for bits in range(2, min(n+1, 11)):\n",
    "        total += cur * (11 - bits)\n",
    "        cur *= (11 - bits)\n",
    "    return total\n",
    "    \n",
    "        \n",
    "n = 7\n",
    "print(tracking(n))\n",
    "print(count_unique(n))\n"
   ]
  },
  {
   "cell_type": "markdown",
   "metadata": {},
   "source": [
    "### 526. Beautiful Arrangement"
   ]
  },
  {
   "cell_type": "code",
   "execution_count": 78,
   "metadata": {},
   "outputs": [
    {
     "name": "stdout",
     "output_type": "stream",
     "text": [
      "10\n",
      "10\n"
     ]
    }
   ],
   "source": [
    "# path 是当前纵向递归解，used 表示当前已使用过的数字\n",
    "def back(path, n, used):\n",
    "    if len(path) == n:\n",
    "        final_result.append(path)\n",
    "        return\n",
    "    # 当前位置: ith\n",
    "    pos = len(path) + 1\n",
    "    for x in range(1, n+1):\n",
    "        # 当前数字 x 没有被使用过，并且满足条件\n",
    "        if x not in used and (x % pos == 0 or pos % x == 0):\n",
    "            back(path + [x], n, used + [x])\n",
    "\n",
    "# 不使用全局变量存储所有解，直接返回个数\n",
    "# 不使用用 path 存储局部解，改用 pos 标志位\n",
    "def back2(pos, n, used):\n",
    "    # 找到一个解\n",
    "    if pos == n + 1:\n",
    "        return 1\n",
    "    total = 0\n",
    "    for x in range(1, n+1):\n",
    "        # 当前数字 x 没有被使用过，并且满足条件\n",
    "        if x not in used and (x % pos == 0 or pos % x == 0):\n",
    "            total += back2(pos + 1, n, used + [x])\n",
    "    return total\n",
    "        \n",
    "N = 5\n",
    "final_result = []\n",
    "back([], N, [])\n",
    "print(len(final_result))\n",
    "print(back2(1, N, []))"
   ]
  },
  {
   "cell_type": "markdown",
   "metadata": {},
   "source": [
    "### 842. Split Array into Fibonacci Sequence"
   ]
  },
  {
   "cell_type": "code",
   "execution_count": 111,
   "metadata": {},
   "outputs": [
    {
     "name": "stdout",
     "output_type": "stream",
     "text": [
      "[123, 456, 579]\n"
     ]
    }
   ],
   "source": [
    "S = \"123456579\"\n",
    "MAX = pow(2, 31) - 1\n",
    "def back(path, start):\n",
    "    if start >= len(S) and len(path) > 2:\n",
    "        final_result.append(path)\n",
    "        return\n",
    "    for i in range(start, len(S)):\n",
    "        cur = S[start: i+1]\n",
    "        cur_len = len(cur)\n",
    "        # 不能是以 0 开头的数字\n",
    "        if cur_len>1 and cur[0] == '0':\n",
    "            break\n",
    "        # 0 <= F[i] <= 2^31 - 1\n",
    "        if int(cur) > MAX:\n",
    "            break\n",
    "        if len(path) < 2:\n",
    "            back(path + [int(cur)], i+1)\n",
    "        else:\n",
    "            if int(cur)== (path[-1]+path[-2]):\n",
    "                back(path + [int(cur)], i+1)\n",
    "                \n",
    "def back2(path, start):\n",
    "    if start >= len(S) and len(path) > 2:\n",
    "        global path2\n",
    "        path2 = path[:]\n",
    "        # leedcode 中可以定义一个 self 变量，如 self.result = [], 在此处进行赋值，self.result = path\n",
    "        return True\n",
    "    for i in range(start, len(S)):\n",
    "        cur = S[start: i+1]\n",
    "        cur_len = len(cur)\n",
    "        # 不能是以 0 开头的数字\n",
    "        if cur_len>1 and cur[0] == '0':\n",
    "            break\n",
    "        # 0 <= F[i] <= 2^31 - 1\n",
    "        if int(cur) > MAX:\n",
    "            break\n",
    "        if len(path) < 2:\n",
    "            if back2(path + [int(cur)], i+1):\n",
    "                return True\n",
    "        else:\n",
    "            if int(cur)== (path[-1]+path[-2]):\n",
    "                if back2(path + [int(cur)], i+1):\n",
    "                    return True\n",
    "    return False\n",
    "                \n",
    "# final_result = []\n",
    "# back([], 0)\n",
    "# print(final_result)\n",
    "\n",
    "path2 = []\n",
    "back2([], 0)\n",
    "print(path2)"
   ]
  },
  {
   "cell_type": "markdown",
   "metadata": {},
   "source": [
    "### 1079. Letter Tile Possibilities"
   ]
  },
  {
   "cell_type": "code",
   "execution_count": 145,
   "metadata": {},
   "outputs": [
    {
     "name": "stdout",
     "output_type": "stream",
     "text": [
      "188\n"
     ]
    }
   ],
   "source": [
    "# 和 90. Subsets II 这题很像，不同的是 Subsets II 每次循环的候选集是从当前位置往后的剩余部分，而这道题\n",
    "#   每次要循环的候选集是【除去当前元素的所有元素】\n",
    "# 回溯框架上，这道题的子集长度是不等的，比如 A，AAB等，所以是在递归函数的开头加上当前层构成的解，注意不包含空集 []\n",
    "\n",
    "tiles = \"BBCAAA\"\n",
    "\n",
    "def back2(path, s):\n",
    "    if len(path) != 0:\n",
    "        final_result.append(path)\n",
    "    used = []\n",
    "    for i in range(len(s)):\n",
    "        # 同一层不能有重复\n",
    "        c = s[i]\n",
    "        if c in used:\n",
    "            continue\n",
    "        used.append(c)\n",
    "        # 下次要递归的字符串是除去当前字符的所有字符\n",
    "        next_s = s[:i]\n",
    "        if i+1 < len(s):\n",
    "            next_s += s[i+1:]\n",
    "        back2(path + [c], next_s)\n",
    "\n",
    "# 这里不用排序，因为在每层的循环中用 used 变量来判断有没有重复了\n",
    "# tiles = sorted(tiles)\n",
    "final_result = []\n",
    "back2([], tiles)\n",
    "print(len(final_result))\n",
    "    "
   ]
  },
  {
   "cell_type": "markdown",
   "metadata": {},
   "source": [
    "### 1219. Path with Maximum Gold"
   ]
  },
  {
   "cell_type": "code",
   "execution_count": 185,
   "metadata": {},
   "outputs": [
    {
     "name": "stdout",
     "output_type": "stream",
     "text": [
      "[28] 28\n"
     ]
    }
   ],
   "source": [
    "# 和迷宫问题有点像，迷宫问题是从左上角开始，这个题没有限制开始条件，需要先遍历一次找到非0的位置，从任一非0位置开始\n",
    "# \n",
    "grid = [[1,0,7],[2,0,6],[3,4,5],[0,3,0],[9,0,20]]\n",
    "n, m = len(grid), len(grid[0])\n",
    "walk_route = [(0, 1), (0, -1), (1, 0), (-1, 0)]\n",
    "# 判断当前位置是否是结束点，无路可走\n",
    "def is_return(x, y):\n",
    "    for walk in walk_route:\n",
    "        next_x, next_y = x + walk[0], y + walk[1]\n",
    "        if next_x in range(n) and next_y in range(m) and grid[next_x][next_y] not in [0, -1]:\n",
    "            return False\n",
    "    return True\n",
    "# 判断给定的一个点是否是有效位置\n",
    "def is_valid(x, y):\n",
    "    if x in range(n) and y in range(m) and grid[x][y] not in [0, -1]:\n",
    "            return True\n",
    "    return False\n",
    " \n",
    "def back(cur_sum, x, y):\n",
    "    # 判断下当前是不是结束条件，其实可以不用判断，像下面这样\n",
    "#     if is_return(x, y):\n",
    "#         if cur_sum > final_result[0]:\n",
    "#             final_result[0] = cur_sum\n",
    "#         return\n",
    "    if cur_sum > final_result[0]:\n",
    "         final_result[0] = cur_sum\n",
    "    # start from x, y\n",
    "    for walk in walk_route:\n",
    "        next_x, next_y = x + walk[0], y + walk[1]\n",
    "        if is_valid(next_x, next_y):\n",
    "            gold = grid[x][y]\n",
    "            # mark cur (x, y)， -1表示这个位置走过\n",
    "            grid[x][y] = -1\n",
    "            # append next point gold\n",
    "            next_gold = grid[next_x][next_y]\n",
    "            back(cur_sum + next_gold, next_x, next_y)\n",
    "            # recovery cur (x,y)\n",
    "            grid[x][y] = gold\n",
    "final_result = [0]\n",
    "for i in range(n):\n",
    "    for j in range(m):\n",
    "        if grid[i][j] != 0:\n",
    "            back(grid[i][j], i, j)\n",
    "#             print(final_result)\n",
    "\n",
    "\n",
    "print(final_result, sum(final_result))\n",
    "      "
   ]
  },
  {
   "cell_type": "markdown",
   "metadata": {},
   "source": [
    "### 1239. Maximum Length of a Concatenated String with Unique Characters"
   ]
  },
  {
   "cell_type": "code",
   "execution_count": 206,
   "metadata": {},
   "outputs": [
    {
     "name": "stdout",
     "output_type": "stream",
     "text": [
      "16\n"
     ]
    }
   ],
   "source": [
    "# 常规回溯套路，就是注意时间复杂度，看似每次的候选集时除去当前位置的所有元素，但是仔细想，起始位置是从 0 开始的，并且每次是从左到右的，\n",
    "#  那么到 idx 这个位置的时候，如果还是从 0 开始遍历，则就会出现比如 arr[idx]+arr[idx-k] 这条路，然而这个组合，在 idx-k这个分支的\n",
    "#  时候已经尝试过了，所以就会出现重复拼接。正确做法是每次的候选集从 idx -> n 往后的剩余部分\n",
    "## 1 使用当前 path 中未使用的集合作为 for 候选集:就会出现 [0,1,2],[0,2,1]，但这两种情况对应的拼接字符串是一样的\n",
    "## 2 使用当前位置往后的剩余元素: [0, 1, 2], [0,2]\n",
    "arr = [\"a\",\"b\",\"c\",\"d\",\"e\",\"f\",\"g\",\"h\",\"i\",\"j\",\"k\",\"l\",\"m\",\"n\",\"o\",\"p\"]\n",
    "def back(path, idx):\n",
    "    if len(path) > result[0]:\n",
    "        result[0] = len(path)\n",
    "    for i in range(idx, len(arr)):\n",
    "        # 没有出现相同字符\n",
    "        s = arr[i]\n",
    "        if len(set(path + s)) == len(path) + len(s):\n",
    "            back(path + s, i+1)\n",
    "# 存储最大值\n",
    "result = [0]\n",
    "back(\"\", 0)\n",
    "print(result[0])\n"
   ]
  },
  {
   "cell_type": "markdown",
   "metadata": {},
   "source": [
    "### 1286. Iterator for Combination"
   ]
  },
  {
   "cell_type": "code",
   "execution_count": 209,
   "metadata": {},
   "outputs": [
    {
     "name": "stdout",
     "output_type": "stream",
     "text": [
      "['ab', 'ac', 'ad', 'bc', 'bd', 'cd']\n"
     ]
    }
   ],
   "source": [
    "# 实际上就是求出 长度为 combinationLength 的组合有多少个，并且按字典序保存下来，因为给的字符串本就是按字典序排号的，且回溯\n",
    "#   也是从左到右进行的，所以按照找到的解的顺序添加就是满足要求的所有字典序的组合\n",
    "characters = \"abcd\"\n",
    "combinationLength = 2\n",
    "def back(path, idx):\n",
    "    if len(path) == combinationLength:\n",
    "        final_result.append(path)\n",
    "    if idx == len(characters):\n",
    "        return\n",
    "    for i in range(idx, len(characters)):\n",
    "        back(path + characters[i], i+1)\n",
    "final_result = []\n",
    "back(\"\", 0)\n",
    "print(final_result)\n",
    "\n",
    "####### 下面是 leetcode 完整代码 #######\n",
    "class CombinationIterator:\n",
    "\n",
    "    def __init__(self, characters: str, combinationLength: int):\n",
    "        self.final_result = []\n",
    "        self.back(\"\", 0, characters, combinationLength)\n",
    "        self.begin = 0\n",
    "        \n",
    "    def back(self, path, idx, characters, combinationLength):\n",
    "        if len(path) == combinationLength:\n",
    "            self.final_result.append(path)\n",
    "        if idx == len(characters):\n",
    "            return\n",
    "        for i in range(idx, len(characters)):\n",
    "            self.back(path + characters[i], i+1, characters, combinationLength)\n",
    "        \n",
    "    def next(self) -> str:\n",
    "        ret = self.final_result[self.begin]\n",
    "        self.begin += 1\n",
    "        return ret\n",
    "\n",
    "    def hasNext(self) -> bool:\n",
    "        return self.begin < len(self.final_result)"
   ]
  },
  {
   "cell_type": "markdown",
   "metadata": {},
   "source": [
    "### 1291. Sequential Digits"
   ]
  },
  {
   "cell_type": "code",
   "execution_count": 339,
   "metadata": {},
   "outputs": [
    {
     "name": "stdout",
     "output_type": "stream",
     "text": [
      "[567, 678, 789, 1234, 2345, 3456, 4567, 5678, 6789, 12345, 23456, 34567, 45678, 56789, 123456, 234567, 345678, 456789, 1234567, 2345678, 3456789] 21\n",
      "[567, 678, 789, 1234, 2345, 3456, 4567, 5678, 6789, 12345, 23456, 34567, 45678, 56789, 123456, 234567, 345678, 456789, 1234567, 2345678, 3456789] 21\n"
     ]
    }
   ],
   "source": [
    "low = 487\n",
    "high = 9876543\n",
    "\n",
    "# 1 回溯方法, 先求出可能的位数 low_n -> high_n, 每次给定一个 base 中的位置，然后循环 low_n -> high_n，\n",
    "#      取出 base[idx, idx+bits], 如果在 low, high 区间，则加到全局结果中\n",
    "# 如位数 3-5\n",
    "    # 1: 123, 1234, 12345 \n",
    "    # 2: 234, 2345, 23456\n",
    "base = \"123456789\"\n",
    "def back(start, low_n, high_n):\n",
    "    if start == len(base):\n",
    "        return\n",
    "    for bits in range(low_n, high_n+1):\n",
    "        if start+bits <= len(base):\n",
    "            cur = base[start: start+bits]\n",
    "            if low <= int(cur) <= high:\n",
    "                final_result.append(int(cur))\n",
    "    back(start+1, low_n, high_n)\n",
    "        \n",
    "        \n",
    "final_result = []\n",
    "back(0, len(str(low)), len(str(high)))\n",
    "final_result.sort()\n",
    "print(final_result, len(final_result))\n",
    "\n",
    "# 2 数学方法\n",
    "def math():\n",
    "    if low > 123456789:\n",
    "        return []\n",
    "    if low > 23456789:\n",
    "        return [123456789]\n",
    "    \n",
    "    # low <= 23456789, 位数 <= 8位\n",
    "    base = \"0123456789\"\n",
    "    MAX = min(high, 123456789)\n",
    "    low_str = str(low)\n",
    "    high_str = str(high)\n",
    "    \n",
    "    # 第一个可能的数字是下面三个的其中一个\n",
    "    # 423 -> 456, 478 -> 567, 99999 -> 123456\n",
    "    first = [base[int(low_str[0]): int(low_str[0])+len(low_str)], \n",
    "             base[int(low_str[0])+1: int(low_str[0])+1+len(low_str)],\n",
    "             base[1: 2+len(low_str)]]\n",
    "    for s in first:\n",
    "        if int(s) >= low:\n",
    "            first = s\n",
    "            break\n",
    "        \n",
    "    cur = first\n",
    "    final_result = []\n",
    "\n",
    "    while(int(cur) <= MAX):\n",
    "        final_result.append(int(cur))\n",
    "        if int(cur) >= MAX:\n",
    "            break\n",
    "        if cur[-1] == '9':\n",
    "            bits = len(cur) + 1\n",
    "            cur = base[1: 1+bits]\n",
    "        else:\n",
    "            cur = cur[1:] + str(int(cur[-1]) + 1)\n",
    "    return final_result\n",
    "ret = math()\n",
    "print(ret, len(ret))\n",
    "    \n",
    "    \n",
    "\n",
    "            "
   ]
  },
  {
   "cell_type": "markdown",
   "metadata": {},
   "source": [
    "### 1415. The k-th Lexicographical String of All Happy Strings of Length n"
   ]
  },
  {
   "cell_type": "code",
   "execution_count": 396,
   "metadata": {},
   "outputs": [
    {
     "name": "stdout",
     "output_type": "stream",
     "text": [
      "['abab', 'abac', 'abca', 'abcb', 'acab', 'acac', 'acba', 'acbc', 'baba', 'babc', 'baca', 'bacb', 'bcab', 'bcac', 'bcba', 'bcbc', 'caba', 'cabc', 'caca', 'cacb', 'cbab', 'cbac', 'cbca', 'cbcb']\n",
      "baba\n",
      "['abab', 1]\n",
      "['abac', 2]\n",
      "['abca', 3]\n",
      "['abcb', 4]\n",
      "['acab', 5]\n",
      "['acac', 6]\n",
      "['acba', 7]\n",
      "['acbc', 8]\n",
      "['baba', 9]\n",
      "baba *********\n"
     ]
    }
   ],
   "source": [
    "# 这道题比较简单，每次循环的候选集是 abc 中除了 path[-1] 的最后一个，如果 path 是空，则候选集是 abc\n",
    "\n",
    "n = 4\n",
    "k = 9\n",
    "base = \"abc\"\n",
    "\n",
    "############## back1, 用全局变量 final_result 存储所有可能的长度为 n 的字符串，最后判断 final 长度 #########\n",
    "############## n 大时明显会增加运行速度和空间消耗\n",
    "def back(path):\n",
    "    if len(path) == n:\n",
    "        final_result.append(path)\n",
    "        return\n",
    "\n",
    "    t = '' if path == \"\" else path [-1]\n",
    "    for c in base.replace(t, ''):\n",
    "        back(path + c)\n",
    "final_result = [] \n",
    "back(\"\")\n",
    "ret = \"\" if len(final_result) < k else final_result[k-1]\n",
    "print(final_result)\n",
    "print(ret)\n",
    "\n",
    "############## back2, 用全局变量 final_result=[0,0] ，第一个元素存储找到的字符串，第二个存储是第几个，\n",
    "##############        如果是第 K 个则 return True\n",
    "def back2(path):\n",
    "    if len(path) == n:\n",
    "        final_result[0] = path\n",
    "        final_result[1] += 1\n",
    "        print(final_result)\n",
    "        if final_result[1] == k:\n",
    "            # return True 表示找到了第K个，用于在后面的 for 中退出\n",
    "            return True\n",
    "        # 这个 return 是 len(path)==n 表示一条路已经走到头了，不能再深入了，所以 return。这个是必须有的，否则会陷入无尽的循环\n",
    "        return \n",
    "\n",
    "    t = '' if path == \"\" else path [-1]\n",
    "    for c in base.replace(t, ''):\n",
    "        if back2(path + c):\n",
    "            return True\n",
    "    return False\n",
    "final_result = [0,0]\n",
    "find = back2(\"\")\n",
    "ret = final_result[0] if find else \"\"\n",
    "print(ret, \"*********\")"
   ]
  },
  {
   "cell_type": "markdown",
   "metadata": {},
   "source": [
    "## 回溯法总结"
   ]
  },
  {
   "cell_type": "markdown",
   "metadata": {},
   "source": [
    "#### 回溯问题模板：\n",
    "1. 定义一个全局变量，用以添加回溯过程中找到的一组解\n",
    "2. 定义回溯函数：\n",
    "\n",
    "    2.1 回溯函数参数：\n",
    "        * 局部变量 path 存储找到的一组解, 这个参数一般是必须的\n",
    "        * 记录当前位置的变量：如，start，x 、y 等，视具体问题而定\n",
    "        \n",
    "    2.2 回溯函数结束条件: 回溯本质是递归，递归就要有结束条件，不然出不去；结束条件一般比较好想，通常是边界条件，比如数组为空、当前位置到最后一个位置、或者当前 path 中的元素个数满足条件了等。\n",
    "    \n",
    "    2.3 如何表示回溯：不能改变局部变量 path 的值才能实现回溯:\n",
    "        * path.append(X); back(path); path.pop() ， 对于 back 函数是沿着一条路深入，所以要加上当前点，path.pop()是恢复原来路径，去找下一个点\n",
    "        * 直接 back(path + [X])，在 path 后加上当前的点，没有直接修改 path\n",
    "        \n",
    "    2.4 满足某种条件进行剪枝：通常当前位置往下一步走可能有多个选择，但是有些选择点是明显不满足条件的，没必要进行尝试，通过合理的条件判断跳过这些点，可以极大的缩短查找空间，减小时间复杂度，这一步做的好在数据量大的时候就能 AC 了，不过这个条件要自己去摸索了。\n",
    "python 模板：\n",
    "```\n",
    "final_result = []\n",
    "def back(path, start):\n",
    "    if 结束条件:\n",
    "        final_result.append(path)\n",
    "        return\n",
    "    for 候选点集合:\n",
    "        if valid(候选点):\n",
    "            back(path + [候选点], 新位置) \n",
    "back(path=[], start=0)\n",
    "print(final_result)\n",
    "```\n",
    "\n",
    "#### 回溯问题类型整体可以分为三类：\n",
    "1. 找所有层上的子集：例如 Subsets I 和 Subsets II，特点是每个子集的长度不一样。这中问题没有显式的结束条件，因为每一层上的子集都是合理的，\n",
    "所以要在回溯函数开头就加上当前解: \n",
    "```\n",
    "def back(path, start):\n",
    "    final_result.append(path)\n",
    "    for 候选点集合:\n",
    "        if valid(候选点):\n",
    "            back(path + [候选点], 新位置)\n",
    "```\n",
    "2. 找所有到最后一层的解：例如全排列问题、八皇后问题，特点是每个解的长度是一样的，每次递归沿一条路走到最后，到叶子节点的整个路径是要找的一组解，\n",
    "这时候就需要有显式的结束条件：通常是到达边界处作为结束条件 然后 return\n",
    "```\n",
    "def back(path, start):\n",
    "    if 结束条件:\n",
    "        final_ryesult.append(path)\n",
    "        return\n",
    "    for 候选点集合:\n",
    "        if valid(候选点):\n",
    "            back(path + [候选点], 新位置) \n",
    "```\n",
    "3. 找到满足某些条件的总个数，如 `357. Count Numbers with Unique Digits`, `526. Beautiful Arrangement`等，虽说也可以用上述框架，使用\n",
    "    全局变量 final_result 存储每个局部解，然后返回 len(final_result) 就是全部解的个数，但是这样会浪费存储空间，因为并不要求返回全部解。我们可以\n",
    "    在递归的时候直接返回个数。这时候结束条件就不是一个光杆司令 return 了，需要返回一个数，如 return 1 之类。\n",
    "\n",
    "    刚说到 for 中的每个候选点是处在同一层的，而回溯的递归是沿着其中一个候选点深入下去，返回这一个分支的解的个数，那么横向这一层下所有解的个数\n",
    "    就是各个候选点的回溯结果相加，总结如下：\n",
    "```\n",
    "def back(start):\n",
    "    if 结束条件:\n",
    "        return 1 # 举例，实际问题中未必是 1\n",
    "    total = 0\n",
    "    for 候选点集合:\n",
    "        if valid(候选点):\n",
    "            total += back(新位置) # back 就是一个分支递归下去返回的结果，如果递归不好理解，可以想象成这就是一个普通函数\n",
    "    return total # 最后返回当前这一层的所有解\n",
    "```\n",
    "\n",
    "#### 具象-抽象\n",
    "有时候一时转不过弯或者不知道什么时候 return，不知道 valid 条件怎么写，这时候就找几个具体例子，比如从第一个位置开始，按照题意是什么情况，\n",
    "从第二个位置开始是什么情况，找几个具体的例子，观察一下规律，抽象出几个变量不知不觉中就可以套入到这个模板中了。\n",
    "\n",
    "往往 for 这一层循环的是所有的候选点，它们是处在同一层的，for 中的一个满足条件的点再到 back 函数中，这是一条路继续往下走，其实就是 DFS。"
   ]
  }
 ],
 "metadata": {
  "kernelspec": {
   "display_name": "Python 3",
   "language": "python",
   "name": "python3"
  },
  "language_info": {
   "codemirror_mode": {
    "name": "ipython",
    "version": 3
   },
   "file_extension": ".py",
   "mimetype": "text/x-python",
   "name": "python",
   "nbconvert_exporter": "python",
   "pygments_lexer": "ipython3",
   "version": "3.6.5"
  }
 },
 "nbformat": 4,
 "nbformat_minor": 2
}
